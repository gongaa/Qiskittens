{
 "cells": [
  {
   "cell_type": "markdown",
   "metadata": {},
   "source": [
    "# Hike Planning\n"
   ]
  },
  {
   "cell_type": "code",
   "execution_count": null,
   "metadata": {},
   "outputs": [],
   "source": [
    "import numpy as np\n",
    "import copy\n",
    "\n",
    "# Problem modelling imports\n",
    "from docplex.mp.model import Model\n",
    "\n",
    "# Qiskit imports\n",
    "from qiskit import BasicAer\n",
    "# from qiskit.utils.algorithm_globals import algorithm_globals\n",
    "from qiskit_optimization.problems.variable import VarType\n",
    "from qiskit_optimization.converters.quadratic_program_to_qubo import QuadraticProgramToQubo\n",
    "from qiskit_optimization.translators import from_docplex_mp\n",
    "\n",
    "from qiskit.utils import algorithm_globals, QuantumInstance\n",
    "from qiskit.algorithms import QAOA, NumPyMinimumEigensolver\n",
    "from qiskit_optimization.algorithms import (\n",
    "    CplexOptimizer,\n",
    "    MinimumEigenOptimizer,\n",
    "    RecursiveMinimumEigenOptimizer,\n",
    "    SolutionSample,\n",
    "    OptimizationResultStatus,\n",
    ")\n",
    "from qiskit_optimization import QuadraticProgram\n",
    "from qiskit.visualization import plot_histogram\n",
    "from typing import List, Tuple\n",
    "import numpy as np\n",
    "from qiskit.quantum_info import Statevector\n",
    "from qiskit.opflow import PauliExpectation, StateFn, CircuitSampler"
   ]
  },
  {
   "cell_type": "code",
   "execution_count": null,
   "metadata": {},
   "outputs": [],
   "source": [
    "def create_problem(mu: np.array, sigma: np.array, total: int = 3) -> QuadraticProgram:\n",
    "    \"\"\"Solve the quadratic program using docplex.\"\"\"\n",
    "\n",
    "    mdl = Model()\n",
    "    x = [mdl.binary_var(\"x%s\" % i) for i in range(len(sigma))]\n",
    "\n",
    "    objective = mdl.sum([mu[i] * x[i] for i in range(len(mu))])\n",
    "    objective += mdl.sum(\n",
    "        [sigma[i, j] * x[i] * x[j] for i in range(len(mu)) for j in range(len(mu))]\n",
    "    )\n",
    "    mdl.minimize(objective)\n",
    "#     cost = mdl.sum(x)\n",
    "#     mdl.add_constraint(cost == total)\n",
    "\n",
    "    qp = from_docplex_mp(mdl)\n",
    "    return qp\n",
    "\n",
    "\n",
    "def relax_problem(problem) -> QuadraticProgram:\n",
    "    \"\"\"Change all variables to continuous.\"\"\"\n",
    "    relaxed_problem = copy.deepcopy(problem)\n",
    "    for variable in relaxed_problem.variables:\n",
    "        variable.vartype = VarType.CONTINUOUS\n",
    "\n",
    "    return relaxed_problem"
   ]
  },
  {
   "cell_type": "code",
   "execution_count": null,
   "metadata": {},
   "outputs": [],
   "source": [
    "# h = np.array([396, 752, 1204, 1177])\n",
    "# d = np.array([1040, 2480, 7960, 3230])\n",
    "# T = 5\n",
    "# M = 1000.0\n",
    "\n",
    "h = np.array([870, 2501, 4478, 1777, 2970])\n",
    "d = np.array([2700, 6500, 15000, 100, 10000])\n",
    "T = 13.5\n",
    "M = 1000\n",
    "\n",
    "t = h/(M/2.0) + d/(5.0*M)\n",
    "print(t)\n",
    "Q = np.outer(t, t)\n",
    "print(Q)\n",
    "b = -2.0 * T * t\n",
    "# print(b)\n",
    "# Q = Q + np.diag(b)\n",
    "# print(Q)"
   ]
  },
  {
   "cell_type": "code",
   "execution_count": null,
   "metadata": {},
   "outputs": [],
   "source": [
    "import itertools\n",
    "\n",
    "values = []\n",
    "print(\"x, cost\")\n",
    "for x in itertools.product([0, 1], repeat=t.size):\n",
    "    values.append((x, (T-np.asarray(x).dot(t))**2))\n",
    "    print(*values[-1])\n",
    "\n",
    "optimal = min(values, key=lambda value: value[1])\n",
    "print(\"Optimal solution:\", *optimal)"
   ]
  },
  {
   "cell_type": "code",
   "execution_count": null,
   "metadata": {},
   "outputs": [],
   "source": [
    "qubo = create_problem(b, Q)\n",
    "qubo"
   ]
  },
  {
   "cell_type": "markdown",
   "metadata": {},
   "source": [
    "## A. Constructing the Ising Hamiltonian\n",
    "\n",
    "Math! No tips here."
   ]
  },
  {
   "cell_type": "code",
   "execution_count": null,
   "metadata": {},
   "outputs": [],
   "source": [
    "H, offset = qubo.to_ising()\n",
    "print(\"offset: {}\".format(offset))\n",
    "print(\"operator:\")\n",
    "print(H)"
   ]
  },
  {
   "cell_type": "code",
   "execution_count": null,
   "metadata": {},
   "outputs": [],
   "source": [
    "H.to_matrix()"
   ]
  },
  {
   "cell_type": "code",
   "execution_count": null,
   "metadata": {},
   "outputs": [],
   "source": [
    "exact = NumPyMinimumEigensolver().compute_minimum_eigenvalue(H)\n",
    "exact.eigenstate"
   ]
  },
  {
   "cell_type": "code",
   "execution_count": null,
   "metadata": {},
   "outputs": [],
   "source": [
    "statevector = exact.eigenstate.primitive\n",
    "print(\"Optimal state from Hamiltonian:\")\n",
    "print(statevector.probabilities_dict())\n",
    "print(\"Value:\")\n",
    "print(exact.eigenvalue)\n",
    "\n",
    "print(\"\\nCompare to orignal solution:\")\n",
    "print(optimal)"
   ]
  },
  {
   "cell_type": "markdown",
   "metadata": {},
   "source": [
    "## B. Finding the minimum"
   ]
  },
  {
   "cell_type": "markdown",
   "metadata": {},
   "source": [
    "### Evaluating the cost function\n",
    "\n",
    "First, construct the QAOA ansatz and then write a function to evaluate the energy. Given a quantum circuit, you can evaluate the expectation value as"
   ]
  },
  {
   "cell_type": "code",
   "execution_count": null,
   "metadata": {},
   "outputs": [],
   "source": [
    "from qiskit.circuit.library import QAOAAnsatz\n",
    "from qiskit.circuit.library import QAOAAnsatz, GroverOperator, RealAmplitudes\n",
    "\n",
    "p = 3\n",
    "#qaoa = QAOAAnsatz(H, reps=p)\n",
    "qaoa = RealAmplitudes(5, reps=p, entanglement='linear')\n",
    "\n",
    "#qaoa.draw(\"mpl\", style=\"iqx\")\n",
    "qaoa.decompose() #.draw(\"mpl\", style=\"iqx\")\n",
    "\n",
    "from qiskit import transpile\n",
    "\n",
    "#transpile(qaoa, basis_gates=[\"h\", \"rx\", \"rz\", \"rzz\"]) #.draw(\"mpl\", style=\"iqx\")\n",
    "transpiled = qaoa.decompose().decompose().decompose()\n",
    "#transpile(qaoa, basis_gates=[\"h\", \"rx\", \"rz\", \"rzz\"]).draw(\"mpl\", style=\"iqx\")\n",
    "transpile(transpiled, backend, optimization_level=3).draw(\"mpl\", style=\"iqx\")"
   ]
  },
  {
   "cell_type": "code",
   "execution_count": null,
   "metadata": {},
   "outputs": [],
   "source": [
    "def exact_energy(theta):\n",
    "    bound = qaoa.bind_parameters(theta)\n",
    "    return np.real(Statevector(bound).expectation_value(H.primitive))"
   ]
  },
  {
   "cell_type": "code",
   "execution_count": null,
   "metadata": {},
   "outputs": [],
   "source": [
    "delta_t = 0.75\n",
    "p_ = 10\n",
    "\n",
    "annealing_init = np.zeros(2*p_)\n",
    "\n",
    "for i in range(p_):\n",
    "    annealing_init[i] = (1-(i+1)/p_) * delta_t\n",
    "    annealing_init[i+p_] = (i+1)/p_ * delta_t\n",
    "annealing_init"
   ]
  },
  {
   "cell_type": "code",
   "execution_count": null,
   "metadata": {},
   "outputs": [],
   "source": [
    "exact_energy(annealing_init)"
   ]
  },
  {
   "cell_type": "markdown",
   "metadata": {},
   "source": [
    "### Optimize the energy\n",
    "\n",
    "Now optimize the energy. You could for instance use one of Qiskit's built-in optimizers as"
   ]
  },
  {
   "cell_type": "code",
   "execution_count": null,
   "metadata": {},
   "outputs": [],
   "source": [
    "final_state = Statevector(qaoa.bind_parameters(result.x))\n",
    "probabilities = final_state.probabilities_dict()\n",
    "\n",
    "plot_histogram(probabilities)"
   ]
  },
  {
   "cell_type": "markdown",
   "metadata": {},
   "source": [
    "# The rest is not yet runnable"
   ]
  },
  {
   "cell_type": "code",
   "execution_count": null,
   "metadata": {},
   "outputs": [],
   "source": [
    "from qiskit.algorithms.optimizers import L_BFGS_B, SPSA, COBYLA, CG, SLSQP\n",
    "\n",
    "optimizer = SLSQ()\n",
    "\n",
    "#initial_parameters = np.arange(qaoa.num_parameters)\n",
    "initial_parameters = annealing_init\n",
    "print(qaoa.num_parameters)\n",
    "result = optimizer.minimize(exact_energy, initial_parameters)\n",
    "\n",
    "print(result)"
   ]
  },
  {
   "cell_type": "code",
   "execution_count": null,
   "metadata": {},
   "outputs": [],
   "source": [
    "# X, Y = np.meshgrid(betas, gammas)\n",
    "# plt.figure(figsize=(12, 6))\n",
    "# plt.contourf(X, Y, landscape)\n",
    "# plt.xlabel(r\"$\\beta$\")\n",
    "# plt.ylabel(r\"$\\gamma$\")\n",
    "# plt.scatter(result.x[0], result.x[1], s=100, color=\"crimson\")\n",
    "# plt.colorbar()"
   ]
  },
  {
   "cell_type": "code",
   "execution_count": null,
   "metadata": {},
   "outputs": [],
   "source": [
    "print(\"Number of circuit executions:\", result.nfev)"
   ]
  },
  {
   "cell_type": "code",
   "execution_count": null,
   "metadata": {},
   "outputs": [],
   "source": [
    "from qiskit.visualization import plot_histogram\n",
    "\n",
    "final_state = Statevector(qaoa.bind_parameters(result.x))\n",
    "probabilities = final_state.probabilities_dict()\n",
    "\n",
    "plot_histogram(probabilities)"
   ]
  },
  {
   "cell_type": "markdown",
   "metadata": {},
   "source": [
    "**Expected result** The optimal solutions should be at least among the 5 most likely states and have a probability distinctively larger than $1 / 2^\\text{n}$, where $n$ is the number of qubits."
   ]
  },
  {
   "cell_type": "markdown",
   "metadata": {},
   "source": [
    "### Warmstarting"
   ]
  },
  {
   "cell_type": "code",
   "execution_count": null,
   "metadata": {},
   "outputs": [],
   "source": [
    "algorithm_globals.random_seed = 12345\n",
    "\n",
    "quantum_instance = QuantumInstance(\n",
    "    BasicAer.get_backend(\"statevector_simulator\"),\n",
    "    seed_simulator=algorithm_globals.random_seed,\n",
    "    seed_transpiler=algorithm_globals.random_seed,\n",
    ")\n",
    "\n",
    "\n",
    "from qiskit_optimization.algorithms import WarmStartQAOAOptimizer, CplexOptimizer\n",
    "qaoa_mes = QAOA(quantum_instance=quantum_instance,\n",
    "                optimizer=SPSA(maxiter=3),\n",
    "                reps=3,\n",
    "               )\n",
    "ws_qaoa = WarmStartQAOAOptimizer(\n",
    "    pre_solver=CplexOptimizer(), relax_for_pre_solver=True, qaoa=qaoa_mes, epsilon=0.1\n",
    ")\n",
    "ws_result = ws_qaoa.solve(qubo)\n",
    "ws_result"
   ]
  },
  {
   "cell_type": "code",
   "execution_count": null,
   "metadata": {},
   "outputs": [],
   "source": [
    "sol = CplexOptimizer().solve(qubo)\n",
    "c_stars = sol.samples[0].x\n",
    "c_stars\n",
    "\n",
    "from qiskit import QuantumCircuit\n",
    "\n",
    "thetas = [2 * np.arcsin(np.sqrt(c_star)) for c_star in c_stars]\n",
    "\n",
    "init_qc = QuantumCircuit(len(Q))\n",
    "for idx, theta in enumerate(thetas):\n",
    "    init_qc.ry(theta, idx)\n",
    "\n",
    "init_qc.draw(output=\"mpl\")\n",
    "\n",
    "from qiskit.circuit import Parameter\n",
    "\n",
    "beta = Parameter(\"β\")\n",
    "\n",
    "ws_mixer = QuantumCircuit(len(Q))\n",
    "for idx, theta in enumerate(thetas):\n",
    "    ws_mixer.ry(-theta, idx)\n",
    "    ws_mixer.rz(-2 * beta, idx)\n",
    "    ws_mixer.ry(theta, idx)\n",
    "\n",
    "ws_mixer.draw(output=\"mpl\")\n",
    "\n",
    "ws_qaoa_mes = QAOA(\n",
    "    quantum_instance=quantum_instance,\n",
    "    initial_state=init_qc,\n",
    "    mixer=ws_mixer,\n",
    "    initial_point=[0.0, 1.0],\n",
    ")\n",
    "ws_qaoa = MinimumEigenOptimizer(ws_qaoa_mes)\n",
    "ws_qaoa_result = ws_qaoa.solve(qubo)\n",
    "print(ws_qaoa_result)\n"
   ]
  },
  {
   "cell_type": "markdown",
   "metadata": {},
   "source": [
    "### Recursive QAOA"
   ]
  },
  {
   "cell_type": "code",
   "execution_count": null,
   "metadata": {},
   "outputs": [],
   "source": [
    "from qiskit_optimization.algorithms import RecursiveMinimumEigenOptimizer\n",
    "from qiskit.algorithms.optimizers import L_BFGS_B, SPSA, COBYLA, CG, SLSQP\n",
    "\n",
    "#qaoa = QAOAAnsatz(H, reps=p)\n",
    "qaoa = RealAmplitudes(5, reps=5, entanglement='linear')\n",
    "qaoa.decompose()\n",
    "transpiled = qaoa.decompose().decompose().decompose()\n",
    "transpile(transpiled, backend, optimization_level=3).draw(\"mpl\", style=\"iqx\")\n",
    "\n",
    "# TODO: maybe this is set wrong\n",
    "p = qaoa.num_parameters\n",
    "\n",
    "initial_parameters = np.arange(2*p)\n",
    "#initial_parameters = annealing_init\n",
    "\n",
    "qaoa_mes = QAOA(quantum_instance=quantum_instance,\n",
    "                reps=p,\n",
    "                optimizer=SLSQP(),\n",
    "                initial_point=initial_parameters)\n",
    "qaoa_opt = MinimumEigenOptimizer(qaoa_mes)   # using QAOA\n",
    "\n",
    "rqaoa = RecursiveMinimumEigenOptimizer(optimizer=qaoa_opt, min_num_vars=1)\n",
    "rqaoa_result = rqaoa.solve(qubo)"
   ]
  },
  {
   "cell_type": "code",
   "execution_count": null,
   "metadata": {},
   "outputs": [],
   "source": [
    "print(rqaoa_result)\n",
    "\n",
    "final_state = Statevector(qaoa.bind_parameters(qaoa_result.x))\n",
    "probabilities = final_state.probabilities_dict()\n",
    "plot_histogram(probabilities)"
   ]
  },
  {
   "cell_type": "markdown",
   "metadata": {},
   "source": [
    "### CVaR expectation\n",
    "\n",
    "Update your energy evaluation such that only the best $\\alpha \\in (0, 1]$ fraction of the shots contribute to the expectation value."
   ]
  },
  {
   "cell_type": "code",
   "execution_count": null,
   "metadata": {},
   "outputs": [],
   "source": [
    "from qiskit.circuit.library import RealAmplitudes\n",
    "from qiskit.algorithms.optimizers import COBYLA, GradientDescent, CG, QNSPSA\n",
    "from qiskit.algorithms import NumPyMinimumEigensolver, VQE\n",
    "from qiskit.opflow import PauliExpectation, CVaRExpectation\n",
    "from qiskit_optimization import QuadraticProgram\n",
    "from qiskit_optimization.converters import LinearEqualityToPenalty\n",
    "from qiskit_optimization.algorithms import MinimumEigenOptimizer\n",
    "from qiskit_optimization.translators import from_docplex_mp\n",
    "from qiskit import execute, Aer\n",
    "from qiskit.utils import algorithm_globals\n",
    "\n",
    "import numpy as np\n",
    "import matplotlib.pyplot as plt\n",
    "from docplex.mp.model import Model\n",
    "\n",
    "from qiskit.opflow.gradients import Gradient, NaturalGradient, QFI, Hessian"
   ]
  },
  {
   "cell_type": "code",
   "execution_count": null,
   "metadata": {},
   "outputs": [],
   "source": [
    "# set classical optimizer\n",
    "maxiter = 600\n",
    "#optimizer = CG()\n",
    "optimizer = QNSPSA(QNSPSA.get_fidelity(qaoa), maxiter=maxiter)\n",
    "\n",
    "# set variational ansatz\n",
    "# ansatz = RealAmplitudes(n, reps=1)\n",
    "ansatz = qaoa\n",
    "m = ansatz.num_parameters\n",
    "\n",
    "# set backend\n",
    "backend_name = \"qasm_simulator\"  # use this for QASM simulator\n",
    "# backend_name = 'aer_simulator_statevector'  # use this for statevector simlator\n",
    "backend = Aer.get_backend(backend_name)\n",
    "\n",
    "# run variational optimization for different values of alpha\n",
    "alphas = [1.0, 0.50, 0.25]  # confidence levels to be evaluated\n",
    "\n",
    "# solve classically as reference\n",
    "opt_result = MinimumEigenOptimizer(NumPyMinimumEigensolver()).solve(qubo)\n",
    "opt_result"
   ]
  },
  {
   "cell_type": "code",
   "execution_count": null,
   "metadata": {},
   "outputs": [],
   "source": [
    "print(offset)\n",
    "print(T**2)"
   ]
  },
  {
   "cell_type": "code",
   "execution_count": null,
   "metadata": {},
   "outputs": [],
   "source": [
    "# dictionaries to store optimization progress and results\n",
    "objectives = {alpha: [] for alpha in alphas}  # set of tested objective functions w.r.t. alpha\n",
    "results = {}  # results of minimum eigensolver w.r.t alpha\n",
    "\n",
    "# callback to store intermediate results\n",
    "def callback(i, params, obj, stddev, alpha):\n",
    "    # we translate the objective from the internal Ising representation\n",
    "    # to the original optimization problem\n",
    "    objectives[alpha] += [obj + offset]\n",
    "\n",
    "\n",
    "# loop over all given alpha values\n",
    "for alpha in alphas:\n",
    "\n",
    "    # initialize CVaR_alpha objective\n",
    "    cvar_exp = CVaRExpectation(alpha, PauliExpectation())\n",
    "    cvar_exp.compute_variance = lambda x: [0]  # to be fixed in PR #1373\n",
    "\n",
    "    # initialize VQE using CVaR\n",
    "    vqe = VQE(\n",
    "        expectation=None,\n",
    "        optimizer=optimizer,\n",
    "        ansatz=ansatz,\n",
    "        quantum_instance=backend,\n",
    "        callback=lambda i, params, obj, stddev: callback(i, params, obj, stddev, alpha),\n",
    "    )\n",
    "\n",
    "    # initialize optimization algorithm based on CVaR-VQE\n",
    "    opt_alg = MinimumEigenOptimizer(vqe)\n",
    "\n",
    "    # solve problem\n",
    "    results[alpha] = opt_alg.solve(qubo)\n",
    "\n",
    "    # print results\n",
    "    print(\"alpha = {}:\".format(alpha))\n",
    "    print(results[alpha])\n",
    "    print()\n",
    "\n"
   ]
  },
  {
   "cell_type": "code",
   "execution_count": null,
   "metadata": {},
   "outputs": [],
   "source": [
    "from scipy.ndimage.filters import gaussian_filter1d\n",
    "\n",
    "# plot resulting history of objective values\n",
    "plt.figure(figsize=(10, 5))\n",
    "plt.plot([0, maxiter], [opt_result.fval, opt_result.fval], \"r--\", linewidth=2, label=\"optimum\")\n",
    "for alpha in alphas:\n",
    "    #plt.plot(objectives[alpha], label=\"alpha = %.2f\" % alpha, linewidth=2)\n",
    "    plt.plot(gaussian_filter1d(objectives[alpha], sigma=2), label=\"alpha = %.2f\" % alpha, linewidth=2)\n",
    "\n",
    "plt.legend(loc=\"lower right\", fontsize=14)\n",
    "plt.xlim(0, maxiter)\n",
    "plt.xticks(fontsize=14)\n",
    "plt.xlabel(\"iterations\", fontsize=14)\n",
    "plt.yticks(fontsize=14)\n",
    "plt.ylabel(\"objective value\", fontsize=14)\n",
    "plt.show()"
   ]
  },
  {
   "cell_type": "code",
   "execution_count": null,
   "metadata": {},
   "outputs": [],
   "source": [
    "# evaluate final optimal probability for each alpha\n",
    "probs = {}\n",
    "for alpha in alphas:\n",
    "    s = 0\n",
    "    if backend_name == \"qasm_simulator\":\n",
    "        counts = results[alpha].min_eigen_solver_result.eigenstate\n",
    "        shots = sum(counts.values())\n",
    "        for key, val in counts.items():\n",
    "            probs[key] = val / shots\n",
    "            s += probs[key]\n",
    "    else:\n",
    "        probabilities = np.abs(results[alpha].min_eigen_solver_result.eigenstate)**2\n",
    "    print(s)"
   ]
  },
  {
   "cell_type": "code",
   "execution_count": null,
   "metadata": {},
   "outputs": [],
   "source": [
    "plot_histogram(probs)"
   ]
  },
  {
   "cell_type": "markdown",
   "metadata": {},
   "source": [
    "## C. Circuit optimization\n",
    "\n",
    "Now we'll transpile the circuit for the ``ibmq_quito`` device."
   ]
  },
  {
   "cell_type": "code",
   "execution_count": null,
   "metadata": {},
   "outputs": [],
   "source": [
    "from qiskit.test.mock import FakeQuito\n",
    "backend = FakeQuito()\n",
    "\n",
    "# or for the actual device, if you have an IBM Quantum Experience account\n",
    "# from qiskit import IBMQ\n",
    "# IBMQ.load_account()\n",
    "# provider = IBMQ.get_provider(group=\"open\")\n",
    "# backend = provider.get_backend(\"ibmq_quito\")"
   ]
  },
  {
   "cell_type": "markdown",
   "metadata": {},
   "source": [
    "### Pulse efficient decomposition\n",
    "\n",
    "*Note: This works correctly only for a circuit with bound parameters.*\n",
    "\n",
    "You can draw a pulse schedule as follows."
   ]
  },
  {
   "cell_type": "code",
   "execution_count": null,
   "metadata": {},
   "outputs": [],
   "source": [
    "from qiskit import transpile, schedule, QuantumCircuit\n",
    "\n",
    "circuit = QuantumCircuit(2)\n",
    "circuit.h(0)\n",
    "circuit.cx(0, 1)\n",
    "\n",
    "transpiled = transpile(circuit, backend)\n",
    "\n",
    "schedule(transpiled, backend).draw()"
   ]
  }
 ],
 "metadata": {
  "kernelspec": {
   "display_name": "Python 3",
   "language": "python",
   "name": "python3"
  },
  "language_info": {
   "codemirror_mode": {
    "name": "ipython",
    "version": 3
   },
   "file_extension": ".py",
   "mimetype": "text/x-python",
   "name": "python",
   "nbconvert_exporter": "python",
   "pygments_lexer": "ipython3",
   "version": "3.10.4"
  }
 },
 "nbformat": 4,
 "nbformat_minor": 4
}
