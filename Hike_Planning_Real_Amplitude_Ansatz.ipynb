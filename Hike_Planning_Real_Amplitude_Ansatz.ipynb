{
 "cells": [
  {
   "cell_type": "markdown",
   "metadata": {},
   "source": [
    "# Hike Planning Grover\n"
   ]
  },
  {
   "cell_type": "code",
   "execution_count": 44,
   "metadata": {},
   "outputs": [],
   "source": [
    "import numpy as np\n",
    "import copy\n",
    "\n",
    "# Problem modelling imports\n",
    "from docplex.mp.model import Model\n",
    "\n",
    "# Qiskit imports\n",
    "from qiskit import BasicAer\n",
    "# from qiskit.utils.algorithm_globals import algorithm_globals\n",
    "from qiskit_optimization.problems.variable import VarType\n",
    "from qiskit_optimization.converters.quadratic_program_to_qubo import QuadraticProgramToQubo\n",
    "from qiskit_optimization.translators import from_docplex_mp\n",
    "\n",
    "from qiskit.utils import algorithm_globals, QuantumInstance\n",
    "from qiskit.algorithms import QAOA, NumPyMinimumEigensolver\n",
    "from qiskit_optimization.algorithms import (\n",
    "    CplexOptimizer,\n",
    "    MinimumEigenOptimizer,\n",
    "    RecursiveMinimumEigenOptimizer,\n",
    "    SolutionSample,\n",
    "    OptimizationResultStatus,\n",
    "    GroverOptimizer\n",
    ")\n",
    "from qiskit_optimization import QuadraticProgram\n",
    "from qiskit.visualization import plot_histogram\n",
    "from typing import List, Tuple\n",
    "import numpy as np\n",
    "from qiskit.quantum_info import Statevector\n",
    "from qiskit.opflow import PauliExpectation, StateFn, CircuitSampler"
   ]
  },
  {
   "cell_type": "code",
   "execution_count": 45,
   "metadata": {},
   "outputs": [],
   "source": [
    "def create_problem(mu: np.array, sigma: np.array, total: int = 3) -> QuadraticProgram:\n",
    "    \"\"\"Solve the quadratic program using docplex.\"\"\"\n",
    "\n",
    "    mdl = Model()\n",
    "    x = [mdl.binary_var(\"x%s\" % i) for i in range(len(sigma))]\n",
    "\n",
    "    objective = mdl.sum([mu[i] * x[i] for i in range(len(mu))])\n",
    "    objective += mdl.sum(\n",
    "        [sigma[i, j] * x[i] * x[j] for i in range(len(mu)) for j in range(len(mu))]\n",
    "    )\n",
    "    mdl.minimize(objective)\n",
    "#     cost = mdl.sum(x)\n",
    "#     mdl.add_constraint(cost == total)\n",
    "\n",
    "    qp = from_docplex_mp(mdl)\n",
    "    return qp\n",
    "\n",
    "\n",
    "def relax_problem(problem) -> QuadraticProgram:\n",
    "    \"\"\"Change all variables to continuous.\"\"\"\n",
    "    relaxed_problem = copy.deepcopy(problem)\n",
    "    for variable in relaxed_problem.variables:\n",
    "        variable.vartype = VarType.CONTINUOUS\n",
    "\n",
    "    return relaxed_problem"
   ]
  },
  {
   "cell_type": "code",
   "execution_count": 103,
   "metadata": {},
   "outputs": [
    {
     "name": "stdout",
     "output_type": "stream",
     "text": [
      "[ 2.28   6.302 11.956  3.574  7.94 ]\n",
      "[[  5.1984    14.36856   27.25968    8.14872   18.1032  ]\n",
      " [ 14.36856   39.715204  75.346712  22.523348  50.03788 ]\n",
      " [ 27.25968   75.346712 142.945936  42.730744  94.93064 ]\n",
      " [  8.14872   22.523348  42.730744  12.773476  28.37756 ]\n",
      " [ 18.1032    50.03788   94.93064   28.37756   63.0436  ]]\n"
     ]
    }
   ],
   "source": [
    "#h = np.array([396, 752, 1204, 1177])\n",
    "#d = np.array([1040, 2480, 7960, 3230])\n",
    "#T = 5\n",
    "#M = 1000.0\n",
    "\n",
    "h = np.array([870, 2501, 4478, 1777, 2970])\n",
    "d = np.array([2700, 6500, 15000, 100, 10000])\n",
    "T = 13.5\n",
    "M = 1000\n",
    "\n",
    "t = h/(M/2.0) + d/(5.0*M)\n",
    "print(t)\n",
    "Q = np.outer(t, t)\n",
    "print(Q)\n",
    "b = -2.0 * T * t\n",
    "# print(b)\n",
    "# Q = Q + np.diag(b)\n",
    "# print(Q)"
   ]
  },
  {
   "cell_type": "code",
   "execution_count": 104,
   "metadata": {},
   "outputs": [
    {
     "name": "stdout",
     "output_type": "stream",
     "text": [
      "x, cost\n",
      "(0, 0, 0, 0, 0) 182.25\n",
      "(0, 0, 0, 0, 1) 30.913599999999995\n",
      "(0, 0, 0, 1, 0) 98.525476\n",
      "(0, 0, 0, 1, 1) 3.9441960000000025\n",
      "(0, 0, 1, 0, 0) 2.3839360000000016\n",
      "(0, 0, 1, 0, 1) 40.90881600000001\n",
      "(0, 0, 1, 1, 0) 4.120899999999997\n",
      "(0, 0, 1, 1, 1) 99.40089999999998\n",
      "(0, 1, 0, 0, 0) 51.811204000000004\n",
      "(0, 1, 0, 0, 1) 0.5505640000000013\n",
      "(0, 1, 0, 1, 0) 13.133376000000004\n",
      "(0, 1, 0, 1, 1) 18.62785599999999\n",
      "(0, 1, 1, 0, 0) 22.63856399999999\n",
      "(0, 1, 1, 0, 1) 161.239204\n",
      "(0, 1, 1, 1, 0) 69.42222400000001\n",
      "(0, 1, 1, 1, 1) 264.77798400000006\n",
      "(1, 0, 0, 0, 0) 125.88839999999998\n",
      "(1, 0, 0, 0, 1) 10.758399999999996\n",
      "(1, 0, 0, 1, 0) 58.461316\n",
      "(1, 0, 0, 1, 1) 0.08643600000000029\n",
      "(1, 0, 1, 0, 0) 0.541696000000001\n",
      "(1, 0, 1, 0, 1) 75.27297600000003\n",
      "(1, 0, 1, 1, 0) 18.576100000000018\n",
      "(1, 0, 1, 1, 1) 150.06250000000009\n",
      "(1, 1, 0, 0, 0) 24.18672399999999\n",
      "(1, 1, 0, 0, 1) 9.132484000000012\n",
      "(1, 1, 0, 1, 0) 1.8063359999999984\n",
      "(1, 1, 0, 1, 1) 43.507216\n",
      "(1, 1, 1, 0, 0) 49.533444\n",
      "(1, 1, 1, 0, 1) 224.34048400000003\n",
      "(1, 1, 1, 1, 0) 112.61454400000004\n",
      "(1, 1, 1, 1, 1) 344.176704\n",
      "Optimal solution: (1, 0, 0, 1, 1) 0.08643600000000029\n"
     ]
    }
   ],
   "source": [
    "import itertools\n",
    "\n",
    "values = []\n",
    "print(\"x, cost\")\n",
    "for x in itertools.product([0, 1], repeat=t.size):\n",
    "    values.append((x, (T-np.asarray(x).dot(t))**2))\n",
    "    print(*values[-1])\n",
    "\n",
    "optimal = min(values, key=lambda value: value[1])\n",
    "print(\"Optimal solution:\", *optimal)"
   ]
  },
  {
   "cell_type": "code",
   "execution_count": 105,
   "metadata": {},
   "outputs": [
    {
     "data": {
      "text/plain": [
       "\\ This file has been generated by DOcplex\n",
       "\\ ENCODING=ISO-8859-1\n",
       "\\Problem name: docplex_model4\n",
       "\n",
       "Minimize\n",
       " obj: - 61.560000000000 x0 - 170.154000000000 x1 - 322.812000000000 x2\n",
       "      - 96.498000000000 x3 - 214.380000000000 x4 + [ 10.396800000000 x0^2\n",
       "      + 57.474240000000 x0*x1 + 109.038720000000 x0*x2 + 32.594880000000 x0*x3\n",
       "      + 72.412800000000 x0*x4 + 79.430408000000 x1^2 + 301.386848000000 x1*x2\n",
       "      + 90.093392000000 x1*x3 + 200.151520000000 x1*x4 + 285.891872000000 x2^2\n",
       "      + 170.922976000000 x2*x3 + 379.722560000000 x2*x4 + 25.546952000000 x3^2\n",
       "      + 113.510240000000 x3*x4 + 126.087200000000 x4^2 ]/2\n",
       "Subject To\n",
       "\n",
       "Bounds\n",
       " 0 <= x0 <= 1\n",
       " 0 <= x1 <= 1\n",
       " 0 <= x2 <= 1\n",
       " 0 <= x3 <= 1\n",
       " 0 <= x4 <= 1\n",
       "\n",
       "Binaries\n",
       " x0 x1 x2 x3 x4\n",
       "End"
      ]
     },
     "execution_count": 105,
     "metadata": {},
     "output_type": "execute_result"
    }
   ],
   "source": [
    "qubo = create_problem(b, Q)\n",
    "qubo"
   ]
  },
  {
   "cell_type": "markdown",
   "metadata": {},
   "source": [
    "## A. Constructing the Ising Hamiltonian\n",
    "\n",
    "Math! No tips here."
   ]
  },
  {
   "cell_type": "code",
   "execution_count": 106,
   "metadata": {},
   "outputs": [
    {
     "name": "stdout",
     "output_type": "stream",
     "text": [
      "offset: -109.95016999999996\n",
      "operator:\n",
      "-20.056439999999995 * ZIIII\n",
      "- 9.027923999999999 * IZIII\n",
      "+ 14.18878 * ZZIII\n",
      "- 30.20085599999999 * IIZII\n",
      "+ 47.46532 * ZIZII\n",
      "+ 21.365371999999997 * IZZII\n",
      "- 15.918851999999994 * IIIZI\n",
      "+ 25.01894 * ZIIZI\n",
      "+ 11.261674 * IZIZI\n",
      "+ 37.673356 * IIZZI\n",
      "- 5.759280000000004 * IIIIZ\n",
      "+ 9.051600000000002 * ZIIIZ\n",
      "+ 4.07436 * IZIIZ\n",
      "+ 13.629840000000002 * IIZIZ\n",
      "+ 7.18428 * IIIZZ\n"
     ]
    }
   ],
   "source": [
    "H, offset = qubo.to_ising()\n",
    "print(\"offset: {}\".format(offset))\n",
    "print(\"operator:\")\n",
    "print(H)"
   ]
  },
  {
   "cell_type": "code",
   "execution_count": 107,
   "metadata": {},
   "outputs": [
    {
     "data": {
      "text/plain": [
       "array([[109.95017 +0.j,   0.      +0.j,   0.      +0.j, ...,\n",
       "          0.      +0.j,   0.      +0.j,   0.      +0.j],\n",
       "       [  0.      +0.j,  53.58857 +0.j,   0.      +0.j, ...,\n",
       "          0.      +0.j,   0.      +0.j,   0.      +0.j],\n",
       "       [  0.      +0.j,   0.      +0.j, -20.488626+0.j, ...,\n",
       "          0.      +0.j,   0.      +0.j,   0.      +0.j],\n",
       "       ...,\n",
       "       [  0.      +0.j,   0.      +0.j,   0.      +0.j, ...,\n",
       "         77.76267 +0.j,   0.      +0.j,   0.      +0.j],\n",
       "       [  0.      +0.j,   0.      +0.j,   0.      +0.j, ...,\n",
       "          0.      +0.j, 192.478154+0.j,   0.      +0.j],\n",
       "       [  0.      +0.j,   0.      +0.j,   0.      +0.j, ...,\n",
       "          0.      +0.j,   0.      +0.j, 271.876874+0.j]])"
      ]
     },
     "execution_count": 107,
     "metadata": {},
     "output_type": "execute_result"
    }
   ],
   "source": [
    "H.to_matrix()"
   ]
  },
  {
   "cell_type": "code",
   "execution_count": 108,
   "metadata": {},
   "outputs": [
    {
     "data": {
      "text/plain": [
       "VectorStateFn(Statevector([0.+0.j, 0.+0.j, 0.+0.j, 0.+0.j, 0.+0.j, 0.+0.j, 0.+0.j,\n",
       "             0.+0.j, 0.+0.j, 0.+0.j, 0.+0.j, 0.+0.j, 0.+0.j, 0.+0.j,\n",
       "             0.+0.j, 0.+0.j, 0.+0.j, 0.+0.j, 0.+0.j, 0.+0.j, 0.+0.j,\n",
       "             0.+0.j, 0.+0.j, 0.+0.j, 0.+0.j, 1.+0.j, 0.+0.j, 0.+0.j,\n",
       "             0.+0.j, 0.+0.j, 0.+0.j, 0.+0.j],\n",
       "            dims=(2, 2, 2, 2, 2)), coeff=1.0, is_measurement=False)"
      ]
     },
     "execution_count": 108,
     "metadata": {},
     "output_type": "execute_result"
    }
   ],
   "source": [
    "exact = NumPyMinimumEigensolver().compute_minimum_eigenvalue(H)\n",
    "exact.eigenstate"
   ]
  },
  {
   "cell_type": "code",
   "execution_count": 109,
   "metadata": {},
   "outputs": [
    {
     "name": "stdout",
     "output_type": "stream",
     "text": [
      "Optimal state from Hamiltonian:\n",
      "{'11001': 1.0}\n",
      "Value:\n",
      "(72.21339399999997-0j)\n",
      "\n",
      "Compare to orignal solution:\n",
      "((1, 0, 0, 1, 1), 0.08643600000000029)\n"
     ]
    }
   ],
   "source": [
    "statevector = exact.eigenstate.primitive\n",
    "print(\"Optimal state from Hamiltonian:\")\n",
    "print(statevector.probabilities_dict())\n",
    "print(\"Value:\")\n",
    "print(-exact.eigenvalue)\n",
    "\n",
    "print(\"\\nCompare to orignal solution:\")\n",
    "print(optimal)"
   ]
  },
  {
   "cell_type": "markdown",
   "metadata": {},
   "source": [
    "## B. Finding the minimum"
   ]
  },
  {
   "cell_type": "markdown",
   "metadata": {},
   "source": [
    "### Evaluating the cost function\n",
    "\n",
    "First, construct the QAOA ansatz and then write a function to evaluate the energy. Given a quantum circuit, you can evaluate the expectation value as"
   ]
  },
  {
   "cell_type": "code",
   "execution_count": 210,
   "metadata": {},
   "outputs": [
    {
     "data": {
      "text/html": [
       "<pre style=\"word-wrap: normal;white-space: pre;background: #fff0;line-height: 1.1;font-family: &quot;Courier New&quot;,Courier,monospace\">     ┌──────────┐     ┌──────────┐                        ┌───────────┐»\n",
       "q_0: ┤ Ry(θ[0]) ├──■──┤ Ry(θ[5]) ├─────────────────■──────┤ Ry(θ[10]) ├»\n",
       "     ├──────────┤┌─┴─┐└──────────┘┌──────────┐   ┌─┴─┐    └───────────┘»\n",
       "q_1: ┤ Ry(θ[1]) ├┤ X ├─────■──────┤ Ry(θ[6]) ├───┤ X ├──────────■──────»\n",
       "     ├──────────┤└───┘   ┌─┴─┐    └──────────┘┌──┴───┴───┐    ┌─┴─┐    »\n",
       "q_2: ┤ Ry(θ[2]) ├────────┤ X ├─────────■──────┤ Ry(θ[7]) ├────┤ X ├────»\n",
       "     ├──────────┤        └───┘       ┌─┴─┐    └──────────┘ ┌──┴───┴───┐»\n",
       "q_3: ┤ Ry(θ[3]) ├────────────────────┤ X ├─────────■───────┤ Ry(θ[8]) ├»\n",
       "     ├──────────┤                    └───┘       ┌─┴─┐     ├──────────┤»\n",
       "q_4: ┤ Ry(θ[4]) ├────────────────────────────────┤ X ├─────┤ Ry(θ[9]) ├»\n",
       "     └──────────┘                                └───┘     └──────────┘»\n",
       "«                               ┌───────────┐                          »\n",
       "«q_0: ───────────────────■──────┤ Ry(θ[15]) ├──────────────────────────»\n",
       "«     ┌───────────┐    ┌─┴─┐    └───────────┘┌───────────┐             »\n",
       "«q_1: ┤ Ry(θ[11]) ├────┤ X ├──────────■──────┤ Ry(θ[16]) ├─────────────»\n",
       "«     └───────────┘┌───┴───┴───┐    ┌─┴─┐    └───────────┘┌───────────┐»\n",
       "«q_2: ──────■──────┤ Ry(θ[12]) ├────┤ X ├──────────■──────┤ Ry(θ[17]) ├»\n",
       "«         ┌─┴─┐    └───────────┘┌───┴───┴───┐    ┌─┴─┐    └───────────┘»\n",
       "«q_3: ────┤ X ├──────────■──────┤ Ry(θ[13]) ├────┤ X ├──────────■──────»\n",
       "«         └───┘        ┌─┴─┐    ├───────────┤    └───┘        ┌─┴─┐    »\n",
       "«q_4: ─────────────────┤ X ├────┤ Ry(θ[14]) ├─────────────────┤ X ├────»\n",
       "«                      └───┘    └───────────┘                 └───┘    »\n",
       "«                  \n",
       "«q_0: ─────────────\n",
       "«                  \n",
       "«q_1: ─────────────\n",
       "«                  \n",
       "«q_2: ─────────────\n",
       "«     ┌───────────┐\n",
       "«q_3: ┤ Ry(θ[18]) ├\n",
       "«     ├───────────┤\n",
       "«q_4: ┤ Ry(θ[19]) ├\n",
       "«     └───────────┘</pre>"
      ],
      "text/plain": [
       "     ┌──────────┐     ┌──────────┐                        ┌───────────┐»\n",
       "q_0: ┤ Ry(θ[0]) ├──■──┤ Ry(θ[5]) ├─────────────────■──────┤ Ry(θ[10]) ├»\n",
       "     ├──────────┤┌─┴─┐└──────────┘┌──────────┐   ┌─┴─┐    └───────────┘»\n",
       "q_1: ┤ Ry(θ[1]) ├┤ X ├─────■──────┤ Ry(θ[6]) ├───┤ X ├──────────■──────»\n",
       "     ├──────────┤└───┘   ┌─┴─┐    └──────────┘┌──┴───┴───┐    ┌─┴─┐    »\n",
       "q_2: ┤ Ry(θ[2]) ├────────┤ X ├─────────■──────┤ Ry(θ[7]) ├────┤ X ├────»\n",
       "     ├──────────┤        └───┘       ┌─┴─┐    └──────────┘ ┌──┴───┴───┐»\n",
       "q_3: ┤ Ry(θ[3]) ├────────────────────┤ X ├─────────■───────┤ Ry(θ[8]) ├»\n",
       "     ├──────────┤                    └───┘       ┌─┴─┐     ├──────────┤»\n",
       "q_4: ┤ Ry(θ[4]) ├────────────────────────────────┤ X ├─────┤ Ry(θ[9]) ├»\n",
       "     └──────────┘                                └───┘     └──────────┘»\n",
       "«                               ┌───────────┐                          »\n",
       "«q_0: ───────────────────■──────┤ Ry(θ[15]) ├──────────────────────────»\n",
       "«     ┌───────────┐    ┌─┴─┐    └───────────┘┌───────────┐             »\n",
       "«q_1: ┤ Ry(θ[11]) ├────┤ X ├──────────■──────┤ Ry(θ[16]) ├─────────────»\n",
       "«     └───────────┘┌───┴───┴───┐    ┌─┴─┐    └───────────┘┌───────────┐»\n",
       "«q_2: ──────■──────┤ Ry(θ[12]) ├────┤ X ├──────────■──────┤ Ry(θ[17]) ├»\n",
       "«         ┌─┴─┐    └───────────┘┌───┴───┴───┐    ┌─┴─┐    └───────────┘»\n",
       "«q_3: ────┤ X ├──────────■──────┤ Ry(θ[13]) ├────┤ X ├──────────■──────»\n",
       "«         └───┘        ┌─┴─┐    ├───────────┤    └───┘        ┌─┴─┐    »\n",
       "«q_4: ─────────────────┤ X ├────┤ Ry(θ[14]) ├─────────────────┤ X ├────»\n",
       "«                      └───┘    └───────────┘                 └───┘    »\n",
       "«                  \n",
       "«q_0: ─────────────\n",
       "«                  \n",
       "«q_1: ─────────────\n",
       "«                  \n",
       "«q_2: ─────────────\n",
       "«     ┌───────────┐\n",
       "«q_3: ┤ Ry(θ[18]) ├\n",
       "«     ├───────────┤\n",
       "«q_4: ┤ Ry(θ[19]) ├\n",
       "«     └───────────┘"
      ]
     },
     "execution_count": 210,
     "metadata": {},
     "output_type": "execute_result"
    }
   ],
   "source": [
    "from qiskit.circuit.library import QAOAAnsatz, GroverOperator, RealAmplitudes\n",
    "\n",
    "# Real Amplitude\n",
    "ra = RealAmplitudes(5, reps=3, entanglement='linear')\n",
    "ra.decompose().draw()"
   ]
  },
  {
   "cell_type": "code",
   "execution_count": 211,
   "metadata": {},
   "outputs": [
    {
     "data": {
      "text/plain": [
       "1"
      ]
     },
     "execution_count": 211,
     "metadata": {},
     "output_type": "execute_result"
    }
   ],
   "source": [
    "ra.depth()"
   ]
  },
  {
   "cell_type": "code",
   "execution_count": 214,
   "metadata": {},
   "outputs": [
    {
     "data": {
      "text/plain": [
       "['id', 'rz', 'sx', 'x', 'cx', 'reset']"
      ]
     },
     "execution_count": 214,
     "metadata": {},
     "output_type": "execute_result"
    }
   ],
   "source": [
    "from qiskit.test.mock import FakeQuito\n",
    "backend=FakeQuito()\n",
    "backend.configuration().basis_gates"
   ]
  },
  {
   "cell_type": "code",
   "execution_count": 215,
   "metadata": {},
   "outputs": [
    {
     "data": {
      "image/png": "[encoded data removed]",
      "text/plain": [
       "<Figure size 1629.53x686.28 with 1 Axes>"
      ]
     },
     "execution_count": 215,
     "metadata": {},
     "output_type": "execute_result"
    }
   ],
   "source": [
    "from qiskit import transpile\n",
    "transpiled = ra.decompose().decompose().decompose()\n",
    "#transpile(qaoa, basis_gates=[\"h\", \"rx\", \"rz\", \"rzz\"]).draw(\"mpl\", style=\"iqx\")\n",
    "transpile(transpiled, backend, optimization_level=3).draw(\"mpl\", style=\"iqx\")"
   ]
  },
  {
   "cell_type": "code",
   "execution_count": 216,
   "metadata": {},
   "outputs": [
    {
     "data": {
      "text/plain": [
       "OrderedDict([('u3', 20), ('cx', 12)])"
      ]
     },
     "execution_count": 216,
     "metadata": {},
     "output_type": "execute_result"
    }
   ],
   "source": [
    "transpiled.count_ops()"
   ]
  },
  {
   "cell_type": "code",
   "execution_count": 217,
   "metadata": {},
   "outputs": [],
   "source": [
    "def exact_energy(theta):\n",
    "    bound = ra.bind_parameters(theta)\n",
    "    return np.real(Statevector(bound).expectation_value(H.primitive))"
   ]
  },
  {
   "cell_type": "code",
   "execution_count": 94,
   "metadata": {},
   "outputs": [
    {
     "ename": "ValueError",
     "evalue": "Mismatching number of values and parameters. For partial binding please pass a dictionary of {parameter: value} pairs.",
     "output_type": "error",
     "traceback": [
      "\u001b[0;31m---------------------------------------------------------------------------\u001b[0m",
      "\u001b[0;31mValueError\u001b[0m                                Traceback (most recent call last)",
      "\u001b[0;32m<ipython-input-94-a9a1d3954a4e>\u001b[0m in \u001b[0;36m<module>\u001b[0;34m\u001b[0m\n\u001b[0;32m----> 1\u001b[0;31m \u001b[0mexact_energy\u001b[0m\u001b[0;34m(\u001b[0m\u001b[0mnp\u001b[0m\u001b[0;34m.\u001b[0m\u001b[0marray\u001b[0m\u001b[0;34m(\u001b[0m\u001b[0;34m[\u001b[0m\u001b[0;36m1\u001b[0m\u001b[0;34m,\u001b[0m\u001b[0;36m1\u001b[0m\u001b[0;34m,\u001b[0m\u001b[0;36m1\u001b[0m\u001b[0;34m]\u001b[0m\u001b[0;34m)\u001b[0m\u001b[0;34m)\u001b[0m\u001b[0;34m\u001b[0m\u001b[0;34m\u001b[0m\u001b[0m\n\u001b[0m",
      "\u001b[0;32m<ipython-input-90-0af79ae151fa>\u001b[0m in \u001b[0;36mexact_energy\u001b[0;34m(theta)\u001b[0m\n\u001b[1;32m      1\u001b[0m \u001b[0;32mdef\u001b[0m \u001b[0mexact_energy\u001b[0m\u001b[0;34m(\u001b[0m\u001b[0mtheta\u001b[0m\u001b[0;34m)\u001b[0m\u001b[0;34m:\u001b[0m\u001b[0;34m\u001b[0m\u001b[0;34m\u001b[0m\u001b[0m\n\u001b[0;32m----> 2\u001b[0;31m     \u001b[0mbound\u001b[0m \u001b[0;34m=\u001b[0m \u001b[0mra\u001b[0m\u001b[0;34m.\u001b[0m\u001b[0mbind_parameters\u001b[0m\u001b[0;34m(\u001b[0m\u001b[0mtheta\u001b[0m\u001b[0;34m)\u001b[0m\u001b[0;34m\u001b[0m\u001b[0;34m\u001b[0m\u001b[0m\n\u001b[0m\u001b[1;32m      3\u001b[0m     \u001b[0;32mreturn\u001b[0m \u001b[0mnp\u001b[0m\u001b[0;34m.\u001b[0m\u001b[0mreal\u001b[0m\u001b[0;34m(\u001b[0m\u001b[0mStatevector\u001b[0m\u001b[0;34m(\u001b[0m\u001b[0mbound\u001b[0m\u001b[0;34m)\u001b[0m\u001b[0;34m.\u001b[0m\u001b[0mexpectation_value\u001b[0m\u001b[0;34m(\u001b[0m\u001b[0mH\u001b[0m\u001b[0;34m.\u001b[0m\u001b[0mprimitive\u001b[0m\u001b[0;34m)\u001b[0m\u001b[0;34m)\u001b[0m\u001b[0;34m\u001b[0m\u001b[0;34m\u001b[0m\u001b[0m\n",
      "\u001b[0;32m~/.local/lib/python3.6/site-packages/qiskit/circuit/quantumcircuit.py\u001b[0m in \u001b[0;36mbind_parameters\u001b[0;34m(self, values)\u001b[0m\n\u001b[1;32m   2553\u001b[0m                     \u001b[0;34m\"Found ParameterExpression in values; use assign_parameters() instead.\"\u001b[0m\u001b[0;34m\u001b[0m\u001b[0;34m\u001b[0m\u001b[0m\n\u001b[1;32m   2554\u001b[0m                 )\n\u001b[0;32m-> 2555\u001b[0;31m             \u001b[0;32mreturn\u001b[0m \u001b[0mself\u001b[0m\u001b[0;34m.\u001b[0m\u001b[0massign_parameters\u001b[0m\u001b[0;34m(\u001b[0m\u001b[0mvalues\u001b[0m\u001b[0;34m)\u001b[0m\u001b[0;34m\u001b[0m\u001b[0;34m\u001b[0m\u001b[0m\n\u001b[0m\u001b[1;32m   2556\u001b[0m \u001b[0;34m\u001b[0m\u001b[0m\n\u001b[1;32m   2557\u001b[0m     def _unroll_param_dict(\n",
      "\u001b[0;32m~/.local/lib/python3.6/site-packages/qiskit/circuit/library/n_local/n_local.py\u001b[0m in \u001b[0;36massign_parameters\u001b[0;34m(self, parameters, inplace)\u001b[0m\n\u001b[1;32m    811\u001b[0m             \u001b[0mself\u001b[0m\u001b[0;34m.\u001b[0m\u001b[0m_build\u001b[0m\u001b[0;34m(\u001b[0m\u001b[0;34m)\u001b[0m\u001b[0;34m\u001b[0m\u001b[0;34m\u001b[0m\u001b[0m\n\u001b[1;32m    812\u001b[0m \u001b[0;34m\u001b[0m\u001b[0m\n\u001b[0;32m--> 813\u001b[0;31m         \u001b[0;32mreturn\u001b[0m \u001b[0msuper\u001b[0m\u001b[0;34m(\u001b[0m\u001b[0;34m)\u001b[0m\u001b[0;34m.\u001b[0m\u001b[0massign_parameters\u001b[0m\u001b[0;34m(\u001b[0m\u001b[0mparameters\u001b[0m\u001b[0;34m,\u001b[0m \u001b[0minplace\u001b[0m\u001b[0;34m=\u001b[0m\u001b[0minplace\u001b[0m\u001b[0;34m)\u001b[0m\u001b[0;34m\u001b[0m\u001b[0;34m\u001b[0m\u001b[0m\n\u001b[0m\u001b[1;32m    814\u001b[0m \u001b[0;34m\u001b[0m\u001b[0m\n\u001b[1;32m    815\u001b[0m     def _parameterize_block(\n",
      "\u001b[0;32m~/.local/lib/python3.6/site-packages/qiskit/circuit/quantumcircuit.py\u001b[0m in \u001b[0;36massign_parameters\u001b[0;34m(self, parameters, inplace)\u001b[0m\n\u001b[1;32m   2514\u001b[0m             \u001b[0;32mif\u001b[0m \u001b[0mlen\u001b[0m\u001b[0;34m(\u001b[0m\u001b[0mparameters\u001b[0m\u001b[0;34m)\u001b[0m \u001b[0;34m!=\u001b[0m \u001b[0mself\u001b[0m\u001b[0;34m.\u001b[0m\u001b[0mnum_parameters\u001b[0m\u001b[0;34m:\u001b[0m\u001b[0;34m\u001b[0m\u001b[0;34m\u001b[0m\u001b[0m\n\u001b[1;32m   2515\u001b[0m                 raise ValueError(\n\u001b[0;32m-> 2516\u001b[0;31m                     \u001b[0;34m\"Mismatching number of values and parameters. For partial binding \"\u001b[0m\u001b[0;34m\u001b[0m\u001b[0;34m\u001b[0m\u001b[0m\n\u001b[0m\u001b[1;32m   2517\u001b[0m                     \u001b[0;34m\"please pass a dictionary of {parameter: value} pairs.\"\u001b[0m\u001b[0;34m\u001b[0m\u001b[0;34m\u001b[0m\u001b[0m\n\u001b[1;32m   2518\u001b[0m                 )\n",
      "\u001b[0;31mValueError\u001b[0m: Mismatching number of values and parameters. For partial binding please pass a dictionary of {parameter: value} pairs."
     ]
    }
   ],
   "source": [
    "exact_energy(np.array([1,1,1]))"
   ]
  },
  {
   "cell_type": "markdown",
   "metadata": {},
   "source": [
    "### Optimize the energy\n",
    "\n",
    "Now optimize the energy. You could for instance use one of Qiskit's built-in optimizers as"
   ]
  },
  {
   "cell_type": "code",
   "execution_count": 218,
   "metadata": {},
   "outputs": [
    {
     "data": {
      "text/plain": [
       "654"
      ]
     },
     "execution_count": 218,
     "metadata": {},
     "output_type": "execute_result"
    }
   ],
   "source": [
    "from qiskit.algorithms.optimizers import L_BFGS_B, SLSQP\n",
    "\n",
    "#optimizer = L_BFGS_B()\n",
    "optimizer = SLSQP()\n",
    "\n",
    "initial_parameters = np.random.random(ra.num_parameters)\n",
    "result = optimizer.minimize(exact_energy, initial_parameters)\n",
    "\n",
    "result.nfev"
   ]
  },
  {
   "cell_type": "code",
   "execution_count": 219,
   "metadata": {},
   "outputs": [
    {
     "data": {
      "text/plain": [
       "array([0.48222651, 0.61012524, 0.75933927, 0.46600766, 0.42289549,\n",
       "       0.51709331, 0.79274008, 0.77685362, 0.92050371, 0.02100684,\n",
       "       0.25634015, 0.93427682, 0.36321862, 0.33910873, 0.67321794,\n",
       "       0.70425058, 0.81471019, 0.59419641, 0.13614866, 0.46914237])"
      ]
     },
     "execution_count": 219,
     "metadata": {},
     "output_type": "execute_result"
    }
   ],
   "source": [
    "initial_parameters"
   ]
  },
  {
   "cell_type": "code",
   "execution_count": 220,
   "metadata": {},
   "outputs": [
    {
     "data": {
      "image/png": "[encoded data removed]",
      "text/plain": [
       "<Figure size 504x360 with 1 Axes>"
      ]
     },
     "execution_count": 220,
     "metadata": {},
     "output_type": "execute_result"
    }
   ],
   "source": [
    "final_state = Statevector(ra.bind_parameters(result.x))\n",
    "probabilities = final_state.probabilities_dict()\n",
    "\n",
    "plot_histogram(probabilities)"
   ]
  },
  {
   "cell_type": "code",
   "execution_count": 221,
   "metadata": {},
   "outputs": [
    {
     "data": {
      "text/plain": [
       "array([ 2.13,  1.53,  4.71, -1.57, -1.57, -1.17,  3.19,  1.56,  3.14,\n",
       "        0.57, -4.11,  0.16,  3.3 ,  1.89,  1.03, -0.  , -1.53, -3.14,\n",
       "       -3.79, -2.69])"
      ]
     },
     "execution_count": 221,
     "metadata": {},
     "output_type": "execute_result"
    }
   ],
   "source": [
    "np.round(result.x, decimals=2)"
   ]
  },
  {
   "cell_type": "code",
   "execution_count": 222,
   "metadata": {},
   "outputs": [
    {
     "data": {
      "text/plain": [
       "{'00000': 6.32231473598544e-19,\n",
       " '00001': 4.417977172418303e-11,\n",
       " '00010': 8.438810129122965e-20,\n",
       " '00011': 4.068469216877029e-11,\n",
       " '00100': 4.070641793240688e-10,\n",
       " '00101': 3.990179319953685e-10,\n",
       " '00110': 3.0610535307710093e-10,\n",
       " '00111': 3.9692889854927637e-14,\n",
       " '01000': 1.1069742494340326e-19,\n",
       " '01001': 2.4572955368670547e-13,\n",
       " '01010': 8.802758788229588e-18,\n",
       " '01011': 1.637025990233751e-09,\n",
       " '01100': 2.3017286326870036e-10,\n",
       " '01101': 1.5104619223237487e-10,\n",
       " '01110': 1.7308495242206955e-10,\n",
       " '01111': 1.0934179283050298e-12,\n",
       " '10000': 7.854676033778044e-19,\n",
       " '10001': 1.570422936844183e-10,\n",
       " '10010': 6.713780461330642e-19,\n",
       " '10011': 1.344221240226147e-10,\n",
       " '10100': 9.468193315723772e-11,\n",
       " '10101': 9.580573994821666e-12,\n",
       " '10110': 7.119457693249807e-11,\n",
       " '10111': 9.033714483616439e-15,\n",
       " '11000': 5.287482413069433e-09,\n",
       " '11001': 0.9999999906172177,\n",
       " '11010': 7.684482863295363e-11,\n",
       " '11011': 1.9230488447686806e-11,\n",
       " '11100': 5.3536465415686865e-11,\n",
       " '11101': 2.7975641813681452e-11,\n",
       " '11110': 4.025351298186393e-11,\n",
       " '11111': 2.076842591515083e-11}"
      ]
     },
     "execution_count": 222,
     "metadata": {},
     "output_type": "execute_result"
    }
   ],
   "source": [
    "probabilities"
   ]
  },
  {
   "cell_type": "code",
   "execution_count": 223,
   "metadata": {},
   "outputs": [
    {
     "ename": "NameError",
     "evalue": "name 'sampler' is not defined",
     "output_type": "error",
     "traceback": [
      "\u001b[0;31m---------------------------------------------------------------------------\u001b[0m",
      "\u001b[0;31mNameError\u001b[0m                                 Traceback (most recent call last)",
      "\u001b[0;32m<ipython-input-223-8d71de1abfba>\u001b[0m in \u001b[0;36m<module>\u001b[0;34m\u001b[0m\n\u001b[1;32m      1\u001b[0m \u001b[0;31m# you can set this value also directly, but here we dig a bit to get it\u001b[0m\u001b[0;34m\u001b[0m\u001b[0;34m\u001b[0m\u001b[0;34m\u001b[0m\u001b[0m\n\u001b[0;32m----> 2\u001b[0;31m \u001b[0mnum_shots\u001b[0m \u001b[0;34m=\u001b[0m \u001b[0msampler\u001b[0m\u001b[0;34m.\u001b[0m\u001b[0mquantum_instance\u001b[0m\u001b[0;34m.\u001b[0m\u001b[0mrun_config\u001b[0m\u001b[0;34m.\u001b[0m\u001b[0mshots\u001b[0m\u001b[0;34m\u001b[0m\u001b[0;34m\u001b[0m\u001b[0m\n\u001b[0m\u001b[1;32m      3\u001b[0m \u001b[0;34m\u001b[0m\u001b[0m\n\u001b[1;32m      4\u001b[0m \u001b[0;31m# we have a diagonal hamiltonian\u001b[0m\u001b[0;34m\u001b[0m\u001b[0;34m\u001b[0m\u001b[0;34m\u001b[0m\u001b[0m\n\u001b[1;32m      5\u001b[0m \u001b[0mnum_bases\u001b[0m \u001b[0;34m=\u001b[0m \u001b[0;36m1\u001b[0m\u001b[0;34m\u001b[0m\u001b[0;34m\u001b[0m\u001b[0m\n",
      "\u001b[0;31mNameError\u001b[0m: name 'sampler' is not defined"
     ]
    }
   ],
   "source": [
    "# you can set this value also directly, but here we dig a bit to get it\n",
    "num_shots = sampler.quantum_instance.run_config.shots\n",
    "\n",
    "# we have a diagonal hamiltonian\n",
    "num_bases = 1\n",
    "\n",
    "print(\"Energy evaluations:\", result.nfev)\n",
    "print(\"Bases per evaluation:\", num_bases)\n",
    "print(\"Total number of circuit runs:\", result.nfev * num_bases * num_shots)"
   ]
  },
  {
   "cell_type": "markdown",
   "metadata": {},
   "source": [
    "# The rest is not yet runnable"
   ]
  },
  {
   "cell_type": "code",
   "execution_count": 20,
   "metadata": {},
   "outputs": [
    {
     "ename": "ValueError",
     "evalue": "Mismatching number of values and parameters. For partial binding please pass a dictionary of {parameter: value} pairs.",
     "output_type": "error",
     "traceback": [
      "\u001b[0;31m---------------------------------------------------------------------------\u001b[0m",
      "\u001b[0;31mValueError\u001b[0m                                Traceback (most recent call last)",
      "\u001b[0;32m<ipython-input-20-7b70e06d9c03>\u001b[0m in \u001b[0;36m<module>\u001b[0;34m\u001b[0m\n\u001b[1;32m      1\u001b[0m \u001b[0mbetas\u001b[0m \u001b[0;34m=\u001b[0m \u001b[0mgammas\u001b[0m \u001b[0;34m=\u001b[0m \u001b[0mnp\u001b[0m\u001b[0;34m.\u001b[0m\u001b[0mlinspace\u001b[0m\u001b[0;34m(\u001b[0m\u001b[0;34m-\u001b[0m\u001b[0mnp\u001b[0m\u001b[0;34m.\u001b[0m\u001b[0mpi\u001b[0m\u001b[0;34m,\u001b[0m \u001b[0mnp\u001b[0m\u001b[0;34m.\u001b[0m\u001b[0mpi\u001b[0m\u001b[0;34m,\u001b[0m \u001b[0;36m100\u001b[0m\u001b[0;34m)\u001b[0m\u001b[0;34m\u001b[0m\u001b[0;34m\u001b[0m\u001b[0m\n\u001b[0;32m----> 2\u001b[0;31m \u001b[0mlandscape\u001b[0m \u001b[0;34m=\u001b[0m \u001b[0;34m[\u001b[0m\u001b[0;34m[\u001b[0m\u001b[0mexact_energy\u001b[0m\u001b[0;34m(\u001b[0m\u001b[0;34m[\u001b[0m\u001b[0mbeta\u001b[0m\u001b[0;34m,\u001b[0m \u001b[0mgamma\u001b[0m\u001b[0;34m]\u001b[0m\u001b[0;34m)\u001b[0m \u001b[0;32mfor\u001b[0m \u001b[0mbeta\u001b[0m \u001b[0;32min\u001b[0m \u001b[0mbetas\u001b[0m\u001b[0;34m]\u001b[0m \u001b[0;32mfor\u001b[0m \u001b[0mgamma\u001b[0m \u001b[0;32min\u001b[0m \u001b[0mgammas\u001b[0m\u001b[0;34m]\u001b[0m\u001b[0;34m\u001b[0m\u001b[0;34m\u001b[0m\u001b[0m\n\u001b[0m",
      "\u001b[0;32m<ipython-input-20-7b70e06d9c03>\u001b[0m in \u001b[0;36m<listcomp>\u001b[0;34m(.0)\u001b[0m\n\u001b[1;32m      1\u001b[0m \u001b[0mbetas\u001b[0m \u001b[0;34m=\u001b[0m \u001b[0mgammas\u001b[0m \u001b[0;34m=\u001b[0m \u001b[0mnp\u001b[0m\u001b[0;34m.\u001b[0m\u001b[0mlinspace\u001b[0m\u001b[0;34m(\u001b[0m\u001b[0;34m-\u001b[0m\u001b[0mnp\u001b[0m\u001b[0;34m.\u001b[0m\u001b[0mpi\u001b[0m\u001b[0;34m,\u001b[0m \u001b[0mnp\u001b[0m\u001b[0;34m.\u001b[0m\u001b[0mpi\u001b[0m\u001b[0;34m,\u001b[0m \u001b[0;36m100\u001b[0m\u001b[0;34m)\u001b[0m\u001b[0;34m\u001b[0m\u001b[0;34m\u001b[0m\u001b[0m\n\u001b[0;32m----> 2\u001b[0;31m \u001b[0mlandscape\u001b[0m \u001b[0;34m=\u001b[0m \u001b[0;34m[\u001b[0m\u001b[0;34m[\u001b[0m\u001b[0mexact_energy\u001b[0m\u001b[0;34m(\u001b[0m\u001b[0;34m[\u001b[0m\u001b[0mbeta\u001b[0m\u001b[0;34m,\u001b[0m \u001b[0mgamma\u001b[0m\u001b[0;34m]\u001b[0m\u001b[0;34m)\u001b[0m \u001b[0;32mfor\u001b[0m \u001b[0mbeta\u001b[0m \u001b[0;32min\u001b[0m \u001b[0mbetas\u001b[0m\u001b[0;34m]\u001b[0m \u001b[0;32mfor\u001b[0m \u001b[0mgamma\u001b[0m \u001b[0;32min\u001b[0m \u001b[0mgammas\u001b[0m\u001b[0;34m]\u001b[0m\u001b[0;34m\u001b[0m\u001b[0;34m\u001b[0m\u001b[0m\n\u001b[0m",
      "\u001b[0;32m<ipython-input-20-7b70e06d9c03>\u001b[0m in \u001b[0;36m<listcomp>\u001b[0;34m(.0)\u001b[0m\n\u001b[1;32m      1\u001b[0m \u001b[0mbetas\u001b[0m \u001b[0;34m=\u001b[0m \u001b[0mgammas\u001b[0m \u001b[0;34m=\u001b[0m \u001b[0mnp\u001b[0m\u001b[0;34m.\u001b[0m\u001b[0mlinspace\u001b[0m\u001b[0;34m(\u001b[0m\u001b[0;34m-\u001b[0m\u001b[0mnp\u001b[0m\u001b[0;34m.\u001b[0m\u001b[0mpi\u001b[0m\u001b[0;34m,\u001b[0m \u001b[0mnp\u001b[0m\u001b[0;34m.\u001b[0m\u001b[0mpi\u001b[0m\u001b[0;34m,\u001b[0m \u001b[0;36m100\u001b[0m\u001b[0;34m)\u001b[0m\u001b[0;34m\u001b[0m\u001b[0;34m\u001b[0m\u001b[0m\n\u001b[0;32m----> 2\u001b[0;31m \u001b[0mlandscape\u001b[0m \u001b[0;34m=\u001b[0m \u001b[0;34m[\u001b[0m\u001b[0;34m[\u001b[0m\u001b[0mexact_energy\u001b[0m\u001b[0;34m(\u001b[0m\u001b[0;34m[\u001b[0m\u001b[0mbeta\u001b[0m\u001b[0;34m,\u001b[0m \u001b[0mgamma\u001b[0m\u001b[0;34m]\u001b[0m\u001b[0;34m)\u001b[0m \u001b[0;32mfor\u001b[0m \u001b[0mbeta\u001b[0m \u001b[0;32min\u001b[0m \u001b[0mbetas\u001b[0m\u001b[0;34m]\u001b[0m \u001b[0;32mfor\u001b[0m \u001b[0mgamma\u001b[0m \u001b[0;32min\u001b[0m \u001b[0mgammas\u001b[0m\u001b[0;34m]\u001b[0m\u001b[0;34m\u001b[0m\u001b[0;34m\u001b[0m\u001b[0m\n\u001b[0m",
      "\u001b[0;32m<ipython-input-13-21e9c1ebe9a4>\u001b[0m in \u001b[0;36mexact_energy\u001b[0;34m(theta)\u001b[0m\n\u001b[1;32m      1\u001b[0m \u001b[0;32mdef\u001b[0m \u001b[0mexact_energy\u001b[0m\u001b[0;34m(\u001b[0m\u001b[0mtheta\u001b[0m\u001b[0;34m)\u001b[0m\u001b[0;34m:\u001b[0m\u001b[0;34m\u001b[0m\u001b[0;34m\u001b[0m\u001b[0m\n\u001b[0;32m----> 2\u001b[0;31m     \u001b[0mbound\u001b[0m \u001b[0;34m=\u001b[0m \u001b[0mqaoa\u001b[0m\u001b[0;34m.\u001b[0m\u001b[0mbind_parameters\u001b[0m\u001b[0;34m(\u001b[0m\u001b[0mtheta\u001b[0m\u001b[0;34m)\u001b[0m\u001b[0;34m\u001b[0m\u001b[0;34m\u001b[0m\u001b[0m\n\u001b[0m\u001b[1;32m      3\u001b[0m     \u001b[0;32mreturn\u001b[0m \u001b[0mnp\u001b[0m\u001b[0;34m.\u001b[0m\u001b[0mreal\u001b[0m\u001b[0;34m(\u001b[0m\u001b[0mStatevector\u001b[0m\u001b[0;34m(\u001b[0m\u001b[0mbound\u001b[0m\u001b[0;34m)\u001b[0m\u001b[0;34m.\u001b[0m\u001b[0mexpectation_value\u001b[0m\u001b[0;34m(\u001b[0m\u001b[0mH\u001b[0m\u001b[0;34m.\u001b[0m\u001b[0mprimitive\u001b[0m\u001b[0;34m)\u001b[0m\u001b[0;34m)\u001b[0m\u001b[0;34m\u001b[0m\u001b[0;34m\u001b[0m\u001b[0m\n",
      "\u001b[0;32m~/.local/lib/python3.6/site-packages/qiskit/circuit/quantumcircuit.py\u001b[0m in \u001b[0;36mbind_parameters\u001b[0;34m(self, values)\u001b[0m\n\u001b[1;32m   2553\u001b[0m                     \u001b[0;34m\"Found ParameterExpression in values; use assign_parameters() instead.\"\u001b[0m\u001b[0;34m\u001b[0m\u001b[0;34m\u001b[0m\u001b[0m\n\u001b[1;32m   2554\u001b[0m                 )\n\u001b[0;32m-> 2555\u001b[0;31m             \u001b[0;32mreturn\u001b[0m \u001b[0mself\u001b[0m\u001b[0;34m.\u001b[0m\u001b[0massign_parameters\u001b[0m\u001b[0;34m(\u001b[0m\u001b[0mvalues\u001b[0m\u001b[0;34m)\u001b[0m\u001b[0;34m\u001b[0m\u001b[0;34m\u001b[0m\u001b[0m\n\u001b[0m\u001b[1;32m   2556\u001b[0m \u001b[0;34m\u001b[0m\u001b[0m\n\u001b[1;32m   2557\u001b[0m     def _unroll_param_dict(\n",
      "\u001b[0;32m~/.local/lib/python3.6/site-packages/qiskit/circuit/library/n_local/n_local.py\u001b[0m in \u001b[0;36massign_parameters\u001b[0;34m(self, parameters, inplace)\u001b[0m\n\u001b[1;32m    811\u001b[0m             \u001b[0mself\u001b[0m\u001b[0;34m.\u001b[0m\u001b[0m_build\u001b[0m\u001b[0;34m(\u001b[0m\u001b[0;34m)\u001b[0m\u001b[0;34m\u001b[0m\u001b[0;34m\u001b[0m\u001b[0m\n\u001b[1;32m    812\u001b[0m \u001b[0;34m\u001b[0m\u001b[0m\n\u001b[0;32m--> 813\u001b[0;31m         \u001b[0;32mreturn\u001b[0m \u001b[0msuper\u001b[0m\u001b[0;34m(\u001b[0m\u001b[0;34m)\u001b[0m\u001b[0;34m.\u001b[0m\u001b[0massign_parameters\u001b[0m\u001b[0;34m(\u001b[0m\u001b[0mparameters\u001b[0m\u001b[0;34m,\u001b[0m \u001b[0minplace\u001b[0m\u001b[0;34m=\u001b[0m\u001b[0minplace\u001b[0m\u001b[0;34m)\u001b[0m\u001b[0;34m\u001b[0m\u001b[0;34m\u001b[0m\u001b[0m\n\u001b[0m\u001b[1;32m    814\u001b[0m \u001b[0;34m\u001b[0m\u001b[0m\n\u001b[1;32m    815\u001b[0m     def _parameterize_block(\n",
      "\u001b[0;32m~/.local/lib/python3.6/site-packages/qiskit/circuit/quantumcircuit.py\u001b[0m in \u001b[0;36massign_parameters\u001b[0;34m(self, parameters, inplace)\u001b[0m\n\u001b[1;32m   2514\u001b[0m             \u001b[0;32mif\u001b[0m \u001b[0mlen\u001b[0m\u001b[0;34m(\u001b[0m\u001b[0mparameters\u001b[0m\u001b[0;34m)\u001b[0m \u001b[0;34m!=\u001b[0m \u001b[0mself\u001b[0m\u001b[0;34m.\u001b[0m\u001b[0mnum_parameters\u001b[0m\u001b[0;34m:\u001b[0m\u001b[0;34m\u001b[0m\u001b[0;34m\u001b[0m\u001b[0m\n\u001b[1;32m   2515\u001b[0m                 raise ValueError(\n\u001b[0;32m-> 2516\u001b[0;31m                     \u001b[0;34m\"Mismatching number of values and parameters. For partial binding \"\u001b[0m\u001b[0;34m\u001b[0m\u001b[0;34m\u001b[0m\u001b[0m\n\u001b[0m\u001b[1;32m   2517\u001b[0m                     \u001b[0;34m\"please pass a dictionary of {parameter: value} pairs.\"\u001b[0m\u001b[0;34m\u001b[0m\u001b[0;34m\u001b[0m\u001b[0m\n\u001b[1;32m   2518\u001b[0m                 )\n",
      "\u001b[0;31mValueError\u001b[0m: Mismatching number of values and parameters. For partial binding please pass a dictionary of {parameter: value} pairs."
     ]
    }
   ],
   "source": [
    "betas = gammas = np.linspace(-np.pi, np.pi, 100)\n",
    "landscape = [[exact_energy([beta, gamma]) for beta in betas] for gamma in gammas]"
   ]
  },
  {
   "cell_type": "code",
   "execution_count": null,
   "metadata": {},
   "outputs": [],
   "source": [
    "import matplotlib.pyplot as plt\n",
    "\n",
    "X, Y = np.meshgrid(betas, gammas)\n",
    "plt.figure(figsize=(12, 6))\n",
    "plt.contourf(X, Y, landscape)\n",
    "plt.xlabel(r\"$\\beta$\")\n",
    "plt.ylabel(r\"$\\gamma$\")\n",
    "plt.colorbar()"
   ]
  },
  {
   "cell_type": "code",
   "execution_count": null,
   "metadata": {},
   "outputs": [],
   "source": [
    "from qiskit.algorithms.optimizers import SPSA\n",
    "\n",
    "optimizer = SPSA(maxiter=100)\n",
    "\n",
    "initial_parameters = np.arange(6)\n",
    "result = optimizer.minimize(exact_energy, initial_parameters)"
   ]
  },
  {
   "cell_type": "code",
   "execution_count": 18,
   "metadata": {},
   "outputs": [
    {
     "name": "stdout",
     "output_type": "stream",
     "text": [
      "{   'fun': -6.2100421455814505,\n",
      "    'jac': None,\n",
      "    'nfev': 644,\n",
      "    'nit': 92,\n",
      "    'njev': 92,\n",
      "    'x': array([0.45459506, 0.84630319, 0.54016906, 0.83336851, 0.474771  ,\n",
      "       0.72325817])}\n"
     ]
    }
   ],
   "source": [
    "print(result)"
   ]
  },
  {
   "cell_type": "code",
   "execution_count": 19,
   "metadata": {},
   "outputs": [
    {
     "ename": "NameError",
     "evalue": "name 'plt' is not defined",
     "output_type": "error",
     "traceback": [
      "\u001b[0;31m---------------------------------------------------------------------------\u001b[0m",
      "\u001b[0;31mNameError\u001b[0m                                 Traceback (most recent call last)",
      "\u001b[0;32m<ipython-input-19-7bf5017b1da1>\u001b[0m in \u001b[0;36m<module>\u001b[0;34m\u001b[0m\n\u001b[1;32m      1\u001b[0m \u001b[0mX\u001b[0m\u001b[0;34m,\u001b[0m \u001b[0mY\u001b[0m \u001b[0;34m=\u001b[0m \u001b[0mnp\u001b[0m\u001b[0;34m.\u001b[0m\u001b[0mmeshgrid\u001b[0m\u001b[0;34m(\u001b[0m\u001b[0mbetas\u001b[0m\u001b[0;34m,\u001b[0m \u001b[0mgammas\u001b[0m\u001b[0;34m)\u001b[0m\u001b[0;34m\u001b[0m\u001b[0;34m\u001b[0m\u001b[0m\n\u001b[0;32m----> 2\u001b[0;31m \u001b[0mplt\u001b[0m\u001b[0;34m.\u001b[0m\u001b[0mfigure\u001b[0m\u001b[0;34m(\u001b[0m\u001b[0mfigsize\u001b[0m\u001b[0;34m=\u001b[0m\u001b[0;34m(\u001b[0m\u001b[0;36m12\u001b[0m\u001b[0;34m,\u001b[0m \u001b[0;36m6\u001b[0m\u001b[0;34m)\u001b[0m\u001b[0;34m)\u001b[0m\u001b[0;34m\u001b[0m\u001b[0;34m\u001b[0m\u001b[0m\n\u001b[0m\u001b[1;32m      3\u001b[0m \u001b[0mplt\u001b[0m\u001b[0;34m.\u001b[0m\u001b[0mcontourf\u001b[0m\u001b[0;34m(\u001b[0m\u001b[0mX\u001b[0m\u001b[0;34m,\u001b[0m \u001b[0mY\u001b[0m\u001b[0;34m,\u001b[0m \u001b[0mlandscape\u001b[0m\u001b[0;34m)\u001b[0m\u001b[0;34m\u001b[0m\u001b[0;34m\u001b[0m\u001b[0m\n\u001b[1;32m      4\u001b[0m \u001b[0mplt\u001b[0m\u001b[0;34m.\u001b[0m\u001b[0mxlabel\u001b[0m\u001b[0;34m(\u001b[0m\u001b[0;34mr\"$\\beta$\"\u001b[0m\u001b[0;34m)\u001b[0m\u001b[0;34m\u001b[0m\u001b[0;34m\u001b[0m\u001b[0m\n\u001b[1;32m      5\u001b[0m \u001b[0mplt\u001b[0m\u001b[0;34m.\u001b[0m\u001b[0mylabel\u001b[0m\u001b[0;34m(\u001b[0m\u001b[0;34mr\"$\\gamma$\"\u001b[0m\u001b[0;34m)\u001b[0m\u001b[0;34m\u001b[0m\u001b[0;34m\u001b[0m\u001b[0m\n",
      "\u001b[0;31mNameError\u001b[0m: name 'plt' is not defined"
     ]
    }
   ],
   "source": [
    "X, Y = np.meshgrid(betas, gammas)\n",
    "plt.figure(figsize=(12, 6))\n",
    "plt.contourf(X, Y, landscape)\n",
    "plt.xlabel(r\"$\\beta$\")\n",
    "plt.ylabel(r\"$\\gamma$\")\n",
    "plt.scatter(result.x[0], result.x[1], s=100, color=\"crimson\")\n",
    "plt.colorbar()"
   ]
  },
  {
   "cell_type": "code",
   "execution_count": 28,
   "metadata": {},
   "outputs": [
    {
     "name": "stdout",
     "output_type": "stream",
     "text": [
      "Number of circuit executions: 200\n"
     ]
    }
   ],
   "source": [
    "print(\"Number of circuit executions:\", result.nfev)"
   ]
  },
  {
   "cell_type": "code",
   "execution_count": 29,
   "metadata": {},
   "outputs": [
    {
     "data": {
      "image/png": "[encoded data removed]",
      "text/plain": [
       "<Figure size 504x360 with 1 Axes>"
      ]
     },
     "execution_count": 29,
     "metadata": {},
     "output_type": "execute_result"
    }
   ],
   "source": [
    "from qiskit.visualization import plot_histogram\n",
    "\n",
    "final_state = Statevector(qaoa.bind_parameters(result.x))\n",
    "probabilities = final_state.probabilities_dict()\n",
    "\n",
    "plot_histogram(probabilities)"
   ]
  },
  {
   "cell_type": "code",
   "execution_count": 413,
   "metadata": {},
   "outputs": [
    {
     "name": "stdout",
     "output_type": "stream",
     "text": [
      "Minimum at: [0.9826468  0.18479216]\n",
      "Function value: 1.6530767025061928e-08\n"
     ]
    }
   ],
   "source": [
    "from qiskit.algorithms.optimizers import COBYLA\n",
    "\n",
    "def example_function(x):\n",
    "    return (np.linalg.norm(x) - 1) ** 2\n",
    "\n",
    "example_x0 = np.array([1, 1])  # initial point\n",
    "\n",
    "example_result = COBYLA().minimize(example_function, example_x0)\n",
    "\n",
    "print(\"Minimum at:\", example_result.x)\n",
    "print(\"Function value:\", example_result.fun)"
   ]
  },
  {
   "cell_type": "markdown",
   "metadata": {},
   "source": [
    "**Expected result** The optimal solutions should be at least among the 5 most likely states and have a probability distinctively larger than $1 / 2^\\text{n}$, where $n$ is the number of qubits."
   ]
  },
  {
   "cell_type": "markdown",
   "metadata": {},
   "source": [
    "### Warmstarting"
   ]
  },
  {
   "cell_type": "markdown",
   "metadata": {},
   "source": [
    "### CVaR expectation\n",
    "\n",
    "Update your energy evaluation such that only the best $\\alpha \\in (0, 1]$ fraction of the shots contribute to the expectation value."
   ]
  },
  {
   "cell_type": "markdown",
   "metadata": {},
   "source": [
    "## C. Circuit optimization\n",
    "\n",
    "Now we'll transpile the circuit for the ``ibmq_quito`` device."
   ]
  },
  {
   "cell_type": "code",
   "execution_count": 3,
   "metadata": {},
   "outputs": [],
   "source": [
    "from qiskit.test.mock import FakeQuito\n",
    "backend = FakeQuito()\n",
    "\n",
    "# or for the actual device, if you have an IBM Quantum Experience account\n",
    "# from qiskit import IBMQ\n",
    "# IBMQ.load_account()\n",
    "# provider = IBMQ.get_provider(group=\"open\")\n",
    "# backend = provider.get_backend(\"ibmq_quito\")"
   ]
  },
  {
   "cell_type": "markdown",
   "metadata": {},
   "source": [
    "### Pulse efficient decomposition\n",
    "\n",
    "*Note: This works correctly only for a circuit with bound parameters.*\n",
    "\n",
    "You can draw a pulse schedule as follows."
   ]
  },
  {
   "cell_type": "code",
   "execution_count": 4,
   "metadata": {},
   "outputs": [
    {
     "data": {
      "image/png": "[encoded data removed]",
      "text/plain": [
       "<Figure size 936x453.6 with 1 Axes>"
      ]
     },
     "execution_count": 4,
     "metadata": {},
     "output_type": "execute_result"
    }
   ],
   "source": [
    "from qiskit import transpile, schedule, QuantumCircuit\n",
    "\n",
    "circuit = QuantumCircuit(2)\n",
    "circuit.h(0)\n",
    "circuit.cx(0, 1)\n",
    "\n",
    "transpiled = transpile(circuit, backend)\n",
    "\n",
    "schedule(transpiled, backend).draw()"
   ]
  }
 ],
 "metadata": {
  "kernelspec": {
   "display_name": "Python 3",
   "language": "python",
   "name": "python3"
  },
  "language_info": {
   "codemirror_mode": {
    "name": "ipython",
    "version": 3
   },
   "file_extension": ".py",
   "mimetype": "text/x-python",
   "name": "python",
   "nbconvert_exporter": "python",
   "pygments_lexer": "ipython3",
   "version": "3.6.9"
  }
 },
 "nbformat": 4,
 "nbformat_minor": 4
}
